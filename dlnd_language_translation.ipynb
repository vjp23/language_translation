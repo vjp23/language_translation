{
 "cells": [
  {
   "cell_type": "markdown",
   "metadata": {
    "collapsed": true
   },
   "source": [
    "# Language Translation\n",
    "In this project, you’re going to take a peek into the realm of neural network machine translation.  You’ll be training a sequence to sequence model on a dataset of English and French sentences that can translate new sentences from English to French.\n",
    "## Get the Data\n",
    "Since translating the whole language of English to French will take lots of time to train, we have provided you with a small portion of the English corpus."
   ]
  },
  {
   "cell_type": "code",
   "execution_count": 1,
   "metadata": {
    "collapsed": true
   },
   "outputs": [],
   "source": [
    "\"\"\"\n",
    "DON'T MODIFY ANYTHING IN THIS CELL\n",
    "\"\"\"\n",
    "import helper\n",
    "import problem_unittests as tests\n",
    "import matplotlib.pyplot as plt\n",
    "import random\n",
    "\n",
    "source_path = 'data/small_vocab_en'\n",
    "target_path = 'data/small_vocab_fr'\n",
    "source_text = helper.load_data(source_path)\n",
    "target_text = helper.load_data(target_path)"
   ]
  },
  {
   "cell_type": "markdown",
   "metadata": {},
   "source": [
    "## Explore the Data\n",
    "Play around with view_sentence_range to view different parts of the data."
   ]
  },
  {
   "cell_type": "code",
   "execution_count": 2,
   "metadata": {},
   "outputs": [
    {
     "name": "stdout",
     "output_type": "stream",
     "text": [
      "Dataset Stats\n",
      "Roughly the number of unique words: 227\n",
      "Number of sentences: 137861\n",
      "Average number of words in a sentence: 13.225277634719028\n",
      "\n",
      "English sentences 25 to 35:\n",
      "california is never cold during may , and it is sometimes chilly in march .\n",
      "he dislikes lemons , grapes , and mangoes.\n",
      "their favorite fruit is the mango , but our favorite is the pear .\n",
      "france is sometimes quiet during may , and it is never chilly in august .\n",
      "paris is never pleasant during september , and it is beautiful in autumn .\n",
      "he dislikes apples , peaches , and grapes .\n",
      "california is usually freezing during december , and it is busy in april .\n",
      "your most feared animal is that shark .\n",
      "paris is usually wet during august , and it is never dry in november .\n",
      "paris is usually beautiful during september , and it is usually snowy in november .\n",
      "\n",
      "French sentences 25 to 35:\n",
      "californie ne fait jamais froid au mois de mai , et il est parfois frisquet en mars .\n",
      "il déteste les citrons , les raisins et les mangues .\n",
      "leur fruit préféré est la mangue , mais notre préféré est la poire .\n",
      "la france est parfois calme au mois de mai , et il est jamais froid en août .\n",
      "paris est jamais agréable en septembre , et il est beau à l' automne .\n",
      "il déteste les pommes , les pêches et les raisins .\n",
      "la californie est le gel habituellement en décembre , et il est occupé en avril .\n",
      "votre animal le plus redouté est que le requin .\n",
      "paris est généralement humide au mois d' août , et il est jamais sec en novembre .\n",
      "paris est généralement beau en septembre , et il est généralement enneigée en novembre .\n"
     ]
    }
   ],
   "source": [
    "view_sentence_range = (25, 35)\n",
    "\n",
    "\"\"\"\n",
    "DON'T MODIFY ANYTHING IN THIS CELL\n",
    "\"\"\"\n",
    "import numpy as np\n",
    "\n",
    "print('Dataset Stats')\n",
    "print('Roughly the number of unique words: {}'.format(len({word: None for word in source_text.split()})))\n",
    "\n",
    "sentences = source_text.split('\\n')\n",
    "word_counts = [len(sentence.split()) for sentence in sentences]\n",
    "print('Number of sentences: {}'.format(len(sentences)))\n",
    "print('Average number of words in a sentence: {}'.format(np.average(word_counts)))\n",
    "\n",
    "print()\n",
    "print('English sentences {} to {}:'.format(*view_sentence_range))\n",
    "print('\\n'.join(source_text.split('\\n')[view_sentence_range[0]:view_sentence_range[1]]))\n",
    "print()\n",
    "print('French sentences {} to {}:'.format(*view_sentence_range))\n",
    "print('\\n'.join(target_text.split('\\n')[view_sentence_range[0]:view_sentence_range[1]]))"
   ]
  },
  {
   "cell_type": "markdown",
   "metadata": {},
   "source": [
    "## Implement Preprocessing Function\n",
    "### Text to Word Ids\n",
    "As you did with other RNNs, you must turn the text into a number so the computer can understand it. In the function `text_to_ids()`, you'll turn `source_text` and `target_text` from words to ids.  However, you need to add the `<EOS>` word id at the end of `target_text`.  This will help the neural network predict when the sentence should end.\n",
    "\n",
    "You can get the `<EOS>` word id by doing:\n",
    "```python\n",
    "target_vocab_to_int['<EOS>']\n",
    "```\n",
    "You can get other word ids using `source_vocab_to_int` and `target_vocab_to_int`."
   ]
  },
  {
   "cell_type": "code",
   "execution_count": 3,
   "metadata": {},
   "outputs": [
    {
     "name": "stdout",
     "output_type": "stream",
     "text": [
      "Tests Passed\n"
     ]
    }
   ],
   "source": [
    "def text_to_ids(source_text, target_text, source_vocab_to_int, target_vocab_to_int):\n",
    "    \"\"\"\n",
    "    Convert source and target text to proper word ids\n",
    "    :param source_text: String that contains all the source text.\n",
    "    :param target_text: String that contains all the target text.\n",
    "    :param source_vocab_to_int: Dictionary to go from the source words to an id\n",
    "    :param target_vocab_to_int: Dictionary to go from the target words to an id\n",
    "    :return: A tuple of lists (source_id_text, target_id_text)\n",
    "    \"\"\"\n",
    "    # Looks like the tests want a *list of nested lists*, where each nested list is a sentence (line) from the input str\n",
    "    source_id_text = [[source_vocab_to_int[word] for word in sentence.split()] for sentence in source_text.split('\\n')]\n",
    "    # Do the same, but add the <EOS> tag at the end of *each* sentence in the target str\n",
    "    target_id_text = [[target_vocab_to_int[word] for word in (sentence + ' <EOS>').split()] \n",
    "                      for sentence in target_text.split('\\n')]\n",
    "    return source_id_text, target_id_text\n",
    "\n",
    "\"\"\"\n",
    "DON'T MODIFY ANYTHING IN THIS CELL THAT IS BELOW THIS LINE\n",
    "\"\"\"\n",
    "tests.test_text_to_ids(text_to_ids)"
   ]
  },
  {
   "cell_type": "markdown",
   "metadata": {},
   "source": [
    "### Preprocess all the data and save it\n",
    "Running the code cell below will preprocess all the data and save it to file."
   ]
  },
  {
   "cell_type": "code",
   "execution_count": 4,
   "metadata": {
    "collapsed": true
   },
   "outputs": [],
   "source": [
    "\"\"\"\n",
    "DON'T MODIFY ANYTHING IN THIS CELL\n",
    "\"\"\"\n",
    "helper.preprocess_and_save_data(source_path, target_path, text_to_ids)"
   ]
  },
  {
   "cell_type": "markdown",
   "metadata": {},
   "source": [
    "# Check Point\n",
    "This is your first checkpoint. If you ever decide to come back to this notebook or have to restart the notebook, you can start from here. The preprocessed data has been saved to disk."
   ]
  },
  {
   "cell_type": "code",
   "execution_count": 5,
   "metadata": {
    "collapsed": true
   },
   "outputs": [],
   "source": [
    "\"\"\"\n",
    "DON'T MODIFY ANYTHING IN THIS CELL\n",
    "\"\"\"\n",
    "import numpy as np\n",
    "import helper\n",
    "\n",
    "(source_int_text, target_int_text), (source_vocab_to_int, target_vocab_to_int), _ = helper.load_preprocess()"
   ]
  },
  {
   "cell_type": "markdown",
   "metadata": {},
   "source": [
    "### Check the Version of TensorFlow and Access to GPU\n",
    "This will check to make sure you have the correct version of TensorFlow and access to a GPU"
   ]
  },
  {
   "cell_type": "code",
   "execution_count": 6,
   "metadata": {},
   "outputs": [
    {
     "name": "stdout",
     "output_type": "stream",
     "text": [
      "TensorFlow Version: 1.1.0\n",
      "Default GPU Device: /gpu:0\n"
     ]
    }
   ],
   "source": [
    "\"\"\"\n",
    "DON'T MODIFY ANYTHING IN THIS CELL\n",
    "\"\"\"\n",
    "from distutils.version import LooseVersion\n",
    "import warnings\n",
    "import tensorflow as tf\n",
    "from tensorflow.python.layers.core import Dense\n",
    "\n",
    "# Check TensorFlow Version\n",
    "assert LooseVersion(tf.__version__) >= LooseVersion('1.1'), 'Please use TensorFlow version 1.1 or newer'\n",
    "print('TensorFlow Version: {}'.format(tf.__version__))\n",
    "\n",
    "# Check for a GPU\n",
    "if not tf.test.gpu_device_name():\n",
    "    warnings.warn('No GPU found. Please use a GPU to train your neural network.')\n",
    "else:\n",
    "    print('Default GPU Device: {}'.format(tf.test.gpu_device_name()))"
   ]
  },
  {
   "cell_type": "markdown",
   "metadata": {},
   "source": [
    "## Build the Neural Network\n",
    "You'll build the components necessary to build a Sequence-to-Sequence model by implementing the following functions below:\n",
    "- `model_inputs`\n",
    "- `process_decoder_input`\n",
    "- `encoding_layer`\n",
    "- `decoding_layer_train`\n",
    "- `decoding_layer_infer`\n",
    "- `decoding_layer`\n",
    "- `seq2seq_model`\n",
    "\n",
    "### Input\n",
    "Implement the `model_inputs()` function to create TF Placeholders for the Neural Network. It should create the following placeholders:\n",
    "\n",
    "- Input text placeholder named \"input\" using the TF Placeholder name parameter with rank 2.\n",
    "- Targets placeholder with rank 2.\n",
    "- Learning rate placeholder with rank 0.\n",
    "- Keep probability placeholder named \"keep_prob\" using the TF Placeholder name parameter with rank 0.\n",
    "- Target sequence length placeholder named \"target_sequence_length\" with rank 1\n",
    "- Max target sequence length tensor named \"max_target_len\" getting its value from applying tf.reduce_max on the target_sequence_length placeholder. Rank 0.\n",
    "- Source sequence length placeholder named \"source_sequence_length\" with rank 1\n",
    "\n",
    "Return the placeholders in the following the tuple (input, targets, learning rate, keep probability, target sequence length, max target sequence length, source sequence length)"
   ]
  },
  {
   "cell_type": "code",
   "execution_count": 7,
   "metadata": {},
   "outputs": [
    {
     "name": "stdout",
     "output_type": "stream",
     "text": [
      "Tests Passed\n"
     ]
    }
   ],
   "source": [
    "def model_inputs():\n",
    "    \"\"\"\n",
    "    Create TF Placeholders for input, targets, learning rate, and lengths of source and target sequences.\n",
    "    :return: Tuple (input, targets, learning rate, keep probability, target sequence length,\n",
    "    max target sequence length, source sequence length)\n",
    "    \"\"\"\n",
    "    # build the inputs one at a time\n",
    "    input_text = tf.placeholder(tf.int32, [None, None], name='input')\n",
    "    targets = tf.placeholder(tf.int32, [None, None], name='targets')\n",
    "    learning_rate = tf.placeholder(tf.float32, name='lr')\n",
    "    keep_prob = tf.placeholder(tf.float32, name='keep_prob')\n",
    "    target_sequence_length = tf.placeholder(tf.int32, [None], name='target_sequence_length')\n",
    "    max_target_len = tf.reduce_max(target_sequence_length, name= \"max_target_len\")\n",
    "    source_sequence_len = tf.placeholder(tf.int32, [None], name='source_sequence_length')\n",
    "    return input_text, targets, learning_rate, keep_prob, target_sequence_length, max_target_len, source_sequence_len\n",
    "\n",
    "\n",
    "\"\"\"\n",
    "DON'T MODIFY ANYTHING IN THIS CELL THAT IS BELOW THIS LINE\n",
    "\"\"\"\n",
    "tests.test_model_inputs(model_inputs)"
   ]
  },
  {
   "cell_type": "markdown",
   "metadata": {},
   "source": [
    "### Process Decoder Input\n",
    "Implement `process_decoder_input` by removing the last word id from each batch in `target_data` and concat the GO ID to the begining of each batch."
   ]
  },
  {
   "cell_type": "code",
   "execution_count": 8,
   "metadata": {},
   "outputs": [
    {
     "name": "stdout",
     "output_type": "stream",
     "text": [
      "Tests Passed\n"
     ]
    }
   ],
   "source": [
    "def process_decoder_input(target_data, target_vocab_to_int, batch_size):\n",
    "    \"\"\"\n",
    "    Preprocess target data for encoding\n",
    "    :param target_data: Target Placehoder\n",
    "    :param target_vocab_to_int: Dictionary to go from the target words to an id\n",
    "    :param batch_size: Batch Size\n",
    "    :return: Preprocessed target data\n",
    "    \"\"\"\n",
    "    targets = tf.strided_slice(target_data, [0, 0], [batch_size, -1], [1, 1])\n",
    "    return tf.concat([tf.fill([batch_size, 1], target_vocab_to_int['<GO>']), targets], 1)\n",
    "    \n",
    "\"\"\"\n",
    "DON'T MODIFY ANYTHING IN THIS CELL THAT IS BELOW THIS LINE\n",
    "\"\"\"\n",
    "tests.test_process_encoding_input(process_decoder_input)"
   ]
  },
  {
   "cell_type": "markdown",
   "metadata": {},
   "source": [
    "### Encoding\n",
    "Implement `encoding_layer()` to create a Encoder RNN layer:\n",
    " * Embed the encoder input using [`tf.contrib.layers.embed_sequence`](https://www.tensorflow.org/api_docs/python/tf/contrib/layers/embed_sequence)\n",
    " * Construct a [stacked](https://github.com/tensorflow/tensorflow/blob/6947f65a374ebf29e74bb71e36fd82760056d82c/tensorflow/docs_src/tutorials/recurrent.md#stacking-multiple-lstms) [`tf.contrib.rnn.LSTMCell`](https://www.tensorflow.org/api_docs/python/tf/contrib/rnn/LSTMCell) wrapped in a [`tf.contrib.rnn.DropoutWrapper`](https://www.tensorflow.org/api_docs/python/tf/contrib/rnn/DropoutWrapper)\n",
    " * Pass cell and embedded input to [`tf.nn.dynamic_rnn()`](https://www.tensorflow.org/api_docs/python/tf/nn/dynamic_rnn)"
   ]
  },
  {
   "cell_type": "code",
   "execution_count": 9,
   "metadata": {
    "scrolled": false
   },
   "outputs": [
    {
     "name": "stdout",
     "output_type": "stream",
     "text": [
      "Tests Passed\n"
     ]
    }
   ],
   "source": [
    "from imp import reload\n",
    "reload(tests)\n",
    "\n",
    "def encoding_layer(rnn_inputs, rnn_size, num_layers, keep_prob, \n",
    "                   source_sequence_length, source_vocab_size, \n",
    "                   encoding_embedding_size):\n",
    "    \"\"\"\n",
    "    Create encoding layer\n",
    "    :param rnn_inputs: Inputs for the RNN\n",
    "    :param rnn_size: RNN Size\n",
    "    :param num_layers: Number of layers\n",
    "    :param keep_prob: Dropout keep probability\n",
    "    :param source_sequence_length: a list of the lengths of each sequence in the batch\n",
    "    :param source_vocab_size: vocabulary size of source data\n",
    "    :param encoding_embedding_size: embedding size of source data\n",
    "    :return: tuple (RNN output, RNN state)\n",
    "    \"\"\"\n",
    "    # Create the embedding\n",
    "    embedded = tf.contrib.layers.embed_sequence(rnn_inputs, source_vocab_size, encoding_embedding_size)\n",
    "    \n",
    "    # Stack the LSTM cells, with dropout\n",
    "    def lstm_cell():\n",
    "        return tf.contrib.rnn.DropoutWrapper(\n",
    "            tf.contrib.rnn.LSTMCell(rnn_size, initializer=tf.random_uniform_initializer(-0.1, 0.1)), output_keep_prob=keep_prob)\n",
    "    stacked_lstm = tf.contrib.rnn.MultiRNNCell([lstm_cell() for _ in range(num_layers)])\n",
    "    \n",
    "    # Build the encoder RNN\n",
    "    rnn_output, rnn_state = tf.nn.dynamic_rnn(stacked_lstm, embedded, sequence_length=source_sequence_length, dtype=tf.float32)\n",
    "    \n",
    "    return rnn_output, rnn_state\n",
    "\n",
    "\"\"\"\n",
    "DON'T MODIFY ANYTHING IN THIS CELL THAT IS BELOW THIS LINE\n",
    "\"\"\"\n",
    "tests.test_encoding_layer(encoding_layer)"
   ]
  },
  {
   "cell_type": "markdown",
   "metadata": {},
   "source": [
    "### Decoding - Training\n",
    "Create a training decoding layer:\n",
    "* Create a [`tf.contrib.seq2seq.TrainingHelper`](https://www.tensorflow.org/api_docs/python/tf/contrib/seq2seq/TrainingHelper) \n",
    "* Create a [`tf.contrib.seq2seq.BasicDecoder`](https://www.tensorflow.org/api_docs/python/tf/contrib/seq2seq/BasicDecoder)\n",
    "* Obtain the decoder outputs from [`tf.contrib.seq2seq.dynamic_decode`](https://www.tensorflow.org/api_docs/python/tf/contrib/seq2seq/dynamic_decode)"
   ]
  },
  {
   "cell_type": "code",
   "execution_count": 10,
   "metadata": {},
   "outputs": [
    {
     "name": "stdout",
     "output_type": "stream",
     "text": [
      "Tests Passed\n"
     ]
    }
   ],
   "source": [
    "def decoding_layer_train(encoder_state, dec_cell, dec_embed_input, \n",
    "                         target_sequence_length, max_summary_length, \n",
    "                         output_layer, keep_prob):\n",
    "    \"\"\"\n",
    "    Create a decoding layer for training\n",
    "    :param encoder_state: Encoder State\n",
    "    :param dec_cell: Decoder RNN Cell\n",
    "    :param dec_embed_input: Decoder embedded input\n",
    "    :param target_sequence_length: The lengths of each sequence in the target batch\n",
    "    :param max_summary_length: The length of the longest sequence in the batch\n",
    "    :param output_layer: Function to apply the output layer\n",
    "    :param keep_prob: Dropout keep probability\n",
    "    :return: BasicDecoderOutput containing training logits and sample_id\n",
    "    \"\"\"\n",
    "    # Build the training helper\n",
    "    helper = tf.contrib.seq2seq.TrainingHelper(inputs=dec_embed_input, sequence_length=target_sequence_length)\n",
    "    \n",
    "    # Build the decoder- add dropout to the decoder cell\n",
    "    training_decoder = tf.contrib.seq2seq.BasicDecoder(dec_cell, helper, encoder_state, output_layer)\n",
    "        \n",
    "    # Perform the decoding. Unpack 2 values\n",
    "    decoded, _ = tf.contrib.seq2seq.dynamic_decode(training_decoder, \n",
    "                                                      impute_finished=True, maximum_iterations=max_summary_length)\n",
    "    \n",
    "    # Return the decoded outputs\n",
    "    return decoded\n",
    "\n",
    "\n",
    "\n",
    "\"\"\"\n",
    "DON'T MODIFY ANYTHING IN THIS CELL THAT IS BELOW THIS LINE\n",
    "\"\"\"\n",
    "tests.test_decoding_layer_train(decoding_layer_train)"
   ]
  },
  {
   "cell_type": "markdown",
   "metadata": {},
   "source": [
    "### Decoding - Inference\n",
    "Create inference decoder:\n",
    "* Create a [`tf.contrib.seq2seq.GreedyEmbeddingHelper`](https://www.tensorflow.org/api_docs/python/tf/contrib/seq2seq/GreedyEmbeddingHelper)\n",
    "* Create a [`tf.contrib.seq2seq.BasicDecoder`](https://www.tensorflow.org/api_docs/python/tf/contrib/seq2seq/BasicDecoder)\n",
    "* Obtain the decoder outputs from [`tf.contrib.seq2seq.dynamic_decode`](https://www.tensorflow.org/api_docs/python/tf/contrib/seq2seq/dynamic_decode)"
   ]
  },
  {
   "cell_type": "code",
   "execution_count": 11,
   "metadata": {
    "scrolled": false
   },
   "outputs": [
    {
     "name": "stdout",
     "output_type": "stream",
     "text": [
      "Tests Passed\n"
     ]
    }
   ],
   "source": [
    "def decoding_layer_infer(encoder_state, dec_cell, dec_embeddings, start_of_sequence_id,\n",
    "                         end_of_sequence_id, max_target_sequence_length,\n",
    "                         vocab_size, output_layer, batch_size, keep_prob):\n",
    "    \"\"\"\n",
    "    Create a decoding layer for inference\n",
    "    :param encoder_state: Encoder state\n",
    "    :param dec_cell: Decoder RNN Cell\n",
    "    :param dec_embeddings: Decoder embeddings\n",
    "    :param start_of_sequence_id: GO ID\n",
    "    :param end_of_sequence_id: EOS ID\n",
    "    :param max_target_sequence_length: Maximum length of target sequences\n",
    "    :param vocab_size: Size of decoder/target vocabulary\n",
    "    :param decoding_scope: TenorFlow Variable Scope for decoding\n",
    "    :param output_layer: Function to apply the output layer\n",
    "    :param batch_size: Batch size\n",
    "    :param keep_prob: Dropout keep probability\n",
    "    :return: BasicDecoderOutput containing inference logits and sample_id\n",
    "    \"\"\"\n",
    "\n",
    "    # Build the <GO> tokens\n",
    "    tokens = tf.tile(tf.constant([start_of_sequence_id], dtype=tf.int32), [batch_size], name='start_tokens')\n",
    "    \n",
    "    # Build the greedy embedding helper\n",
    "    helper = tf.contrib.seq2seq.GreedyEmbeddingHelper(dec_embeddings, tokens, end_of_sequence_id)\n",
    "    \n",
    "    # Build the decoder\n",
    "    decoder = tf.contrib.seq2seq.BasicDecoder(dec_cell, helper, encoder_state, output_layer)\n",
    "\n",
    "    # Perform the actual unrolling and decoding (again, with 3 outputs to unpack)\n",
    "    dec_output, _ = tf.contrib.seq2seq.dynamic_decode(decoder, impute_finished=True, \n",
    "                                                         maximum_iterations=max_target_sequence_length)       \n",
    "\n",
    "    return dec_output\n",
    "\n",
    "\n",
    "\"\"\"\n",
    "DON'T MODIFY ANYTHING IN THIS CELL THAT IS BELOW THIS LINE\n",
    "\"\"\"\n",
    "tests.test_decoding_layer_infer(decoding_layer_infer)"
   ]
  },
  {
   "cell_type": "markdown",
   "metadata": {},
   "source": [
    "### Build the Decoding Layer\n",
    "Implement `decoding_layer()` to create a Decoder RNN layer.\n",
    "\n",
    "* Embed the target sequences\n",
    "* Construct the decoder LSTM cell (just like you constructed the encoder cell above)\n",
    "* Create an output layer to map the outputs of the decoder to the elements of our vocabulary\n",
    "* Use the your `decoding_layer_train(encoder_state, dec_cell, dec_embed_input, target_sequence_length, max_target_sequence_length, output_layer, keep_prob)` function to get the training logits.\n",
    "* Use your `decoding_layer_infer(encoder_state, dec_cell, dec_embeddings, start_of_sequence_id, end_of_sequence_id, max_target_sequence_length, vocab_size, output_layer, batch_size, keep_prob)` function to get the inference logits.\n",
    "\n",
    "Note: You'll need to use [tf.variable_scope](https://www.tensorflow.org/api_docs/python/tf/variable_scope) to share variables between training and inference."
   ]
  },
  {
   "cell_type": "code",
   "execution_count": 12,
   "metadata": {},
   "outputs": [
    {
     "name": "stdout",
     "output_type": "stream",
     "text": [
      "Tests Passed\n"
     ]
    }
   ],
   "source": [
    "def decoding_layer(dec_input, encoder_state,\n",
    "                   target_sequence_length, max_target_sequence_length,\n",
    "                   rnn_size,\n",
    "                   num_layers, target_vocab_to_int, target_vocab_size,\n",
    "                   batch_size, keep_prob, decoding_embedding_size):\n",
    "    \"\"\"\n",
    "    Create decoding layer\n",
    "    :param dec_input: Decoder input\n",
    "    :param encoder_state: Encoder state\n",
    "    :param target_sequence_length: The lengths of each sequence in the target batch\n",
    "    :param max_target_sequence_length: Maximum length of target sequences\n",
    "    :param rnn_size: RNN Size\n",
    "    :param num_layers: Number of layers\n",
    "    :param target_vocab_to_int: Dictionary to go from the target words to an id\n",
    "    :param target_vocab_size: Size of target vocabulary\n",
    "    :param batch_size: The size of the batch\n",
    "    :param keep_prob: Dropout keep probability\n",
    "    :param decoding_embedding_size: Decoding embedding size\n",
    "    :return: Tuple of (Training BasicDecoderOutput, Inference BasicDecoderOutput)\n",
    "    \"\"\"\n",
    "    \n",
    "    # First, embed the target sequences\n",
    "    dec_embeddings = tf.Variable(tf.random_uniform([target_vocab_size, decoding_embedding_size]))\n",
    "    embedded = tf.nn.embedding_lookup(dec_embeddings, dec_input)\n",
    "\n",
    "    # Stack the decoder LSTM cells, with dropout\n",
    "    def lstm_cell():\n",
    "        return tf.contrib.rnn.DropoutWrapper(tf.contrib.rnn.LSTMCell(rnn_size, \n",
    "                                                                     initializer=tf.random_uniform_initializer(-0.1, 0.1)), \n",
    "                                                                     output_keep_prob=keep_prob)\n",
    "    dec_cell = tf.contrib.rnn.MultiRNNCell([lstm_cell() for _ in range(num_layers)])\n",
    "\n",
    "    # Define a linear dense layer to map outputs to words\n",
    "    output_layer = Dense(target_vocab_size, kernel_initializer=tf.truncated_normal_initializer(mean=0.0, stddev=0.1))\n",
    "\n",
    "    # Define the scope for training\n",
    "    with tf.variable_scope(\"decode\"):\n",
    "        # Get the training logits\n",
    "        train_logits = decoding_layer_train(encoder_state, dec_cell, embedded,\n",
    "                         target_sequence_length, max_target_sequence_length, output_layer, keep_prob)\n",
    "\n",
    "    # Define the scope for inference\n",
    "    with tf.variable_scope(\"decode\", reuse=True):\n",
    "        # Get the inference logits\n",
    "        inference_logits = decoding_layer_infer(encoder_state, dec_cell, dec_embeddings, target_vocab_to_int['<GO>'],\n",
    "                                                target_vocab_to_int['<EOS>'], max_target_sequence_length, \n",
    "                                                target_vocab_size, output_layer, batch_size, keep_prob)\n",
    "\n",
    "    return train_logits, inference_logits\n",
    "\n",
    "\"\"\"\n",
    "DON'T MODIFY ANYTHING IN THIS CELL THAT IS BELOW THIS LINE\n",
    "\"\"\"\n",
    "tests.test_decoding_layer(decoding_layer)"
   ]
  },
  {
   "cell_type": "markdown",
   "metadata": {},
   "source": [
    "### Build the Neural Network\n",
    "Apply the functions you implemented above to:\n",
    "\n",
    "- Encode the input using your `encoding_layer(rnn_inputs, rnn_size, num_layers, keep_prob,  source_sequence_length, source_vocab_size, encoding_embedding_size)`.\n",
    "- Process target data using your `process_decoder_input(target_data, target_vocab_to_int, batch_size)` function.\n",
    "- Decode the encoded input using your `decoding_layer(dec_input, enc_state, target_sequence_length, max_target_sentence_length, rnn_size, num_layers, target_vocab_to_int, target_vocab_size, batch_size, keep_prob, dec_embedding_size)` function."
   ]
  },
  {
   "cell_type": "code",
   "execution_count": 13,
   "metadata": {},
   "outputs": [
    {
     "name": "stdout",
     "output_type": "stream",
     "text": [
      "Tests Passed\n"
     ]
    }
   ],
   "source": [
    "def seq2seq_model(input_data, target_data, keep_prob, batch_size,\n",
    "                  source_sequence_length, target_sequence_length,\n",
    "                  max_target_sentence_length,\n",
    "                  source_vocab_size, target_vocab_size,\n",
    "                  enc_embedding_size, dec_embedding_size,\n",
    "                  rnn_size, num_layers, target_vocab_to_int):\n",
    "    \"\"\"\n",
    "    Build the Sequence-to-Sequence part of the neural network\n",
    "    :param input_data: Input placeholder\n",
    "    :param target_data: Target placeholder\n",
    "    :param keep_prob: Dropout keep probability placeholder\n",
    "    :param batch_size: Batch Size\n",
    "    :param source_sequence_length: Sequence Lengths of source sequences in the batch\n",
    "    :param target_sequence_length: Sequence Lengths of target sequences in the batch\n",
    "    :param source_vocab_size: Source vocabulary size\n",
    "    :param target_vocab_size: Target vocabulary size\n",
    "    :param enc_embedding_size: Decoder embedding size\n",
    "    :param dec_embedding_size: Encoder embedding size\n",
    "    :param rnn_size: RNN Size\n",
    "    :param num_layers: Number of layers\n",
    "    :param target_vocab_to_int: Dictionary to go from the target words to an id\n",
    "    :return: Tuple of (Training BasicDecoderOutput, Inference BasicDecoderOutput)\n",
    "    \"\"\"\n",
    "    # First, encode the input data\n",
    "    encoded, enc_state = encoding_layer(input_data, rnn_size, num_layers, keep_prob, source_sequence_length, source_vocab_size, \n",
    "                                        enc_embedding_size)\n",
    "    \n",
    "    # Process the decoder input\n",
    "    dec_in = process_decoder_input(target_data, target_vocab_to_int, batch_size)\n",
    "\n",
    "    # Decode the the encoded input\n",
    "    train, infer = decoding_layer(dec_in, enc_state, target_sequence_length, max_target_sentence_length, rnn_size, \n",
    "                                  num_layers, target_vocab_to_int, target_vocab_size, batch_size, keep_prob, dec_embedding_size)\n",
    "    \n",
    "    # Return the results\n",
    "    return train, infer\n",
    "\n",
    "\n",
    "\"\"\"\n",
    "DON'T MODIFY ANYTHING IN THIS CELL THAT IS BELOW THIS LINE\n",
    "\"\"\"\n",
    "tests.test_seq2seq_model(seq2seq_model)"
   ]
  },
  {
   "cell_type": "markdown",
   "metadata": {},
   "source": [
    "## Neural Network Training\n",
    "### Hyperparameters\n",
    "Tune the following parameters:\n",
    "\n",
    "- Set `epochs` to the number of epochs.\n",
    "- Set `batch_size` to the batch size.\n",
    "- Set `rnn_size` to the size of the RNNs.\n",
    "- Set `num_layers` to the number of layers.\n",
    "- Set `encoding_embedding_size` to the size of the embedding for the encoder.\n",
    "- Set `decoding_embedding_size` to the size of the embedding for the decoder.\n",
    "- Set `learning_rate` to the learning rate.\n",
    "- Set `keep_probability` to the Dropout keep probability\n",
    "- Set `display_step` to state how many steps between each debug output statement"
   ]
  },
  {
   "cell_type": "code",
   "execution_count": 14,
   "metadata": {
    "collapsed": true
   },
   "outputs": [],
   "source": [
    "# Number of Epochs\n",
    "#epochs = 10\n",
    "# Batch Size\n",
    "batch_size = 256\n",
    "# RNN Size\n",
    "#rnn_size = 128\n",
    "# Number of Layers\n",
    "#num_layers = 2\n",
    "# Embedding Size\n",
    "#encoding_embedding_size = 256\n",
    "#decoding_embedding_size = 256\n",
    "# Learning Rate\n",
    "#learning_rate = 0.001\n",
    "# Dropout Keep Probability\n",
    "#keep_probability = 0.6\n",
    "#display_step = 10"
   ]
  },
  {
   "cell_type": "markdown",
   "metadata": {},
   "source": [
    "Batch and pad the source and target sequences"
   ]
  },
  {
   "cell_type": "code",
   "execution_count": 15,
   "metadata": {
    "collapsed": true
   },
   "outputs": [],
   "source": [
    "\"\"\"\n",
    "DON'T MODIFY ANYTHING IN THIS CELL\n",
    "\"\"\"\n",
    "def pad_sentence_batch(sentence_batch, pad_int):\n",
    "    \"\"\"Pad sentences with <PAD> so that each sentence of a batch has the same length\"\"\"\n",
    "    max_sentence = max([len(sentence) for sentence in sentence_batch])\n",
    "    return [sentence + [pad_int] * (max_sentence - len(sentence)) for sentence in sentence_batch]\n",
    "\n",
    "\n",
    "def get_batches(sources, targets, batch_size, source_pad_int, target_pad_int):\n",
    "    \"\"\"Batch targets, sources, and the lengths of their sentences together\"\"\"\n",
    "    for batch_i in range(0, len(sources)//batch_size):\n",
    "        start_i = batch_i * batch_size\n",
    "\n",
    "        # Slice the right amount for the batch\n",
    "        sources_batch = sources[start_i:start_i + batch_size]\n",
    "        targets_batch = targets[start_i:start_i + batch_size]\n",
    "\n",
    "        # Pad\n",
    "        pad_sources_batch = np.array(pad_sentence_batch(sources_batch, source_pad_int))\n",
    "        pad_targets_batch = np.array(pad_sentence_batch(targets_batch, target_pad_int))\n",
    "\n",
    "        # Need the lengths for the _lengths parameters\n",
    "        pad_targets_lengths = []\n",
    "        for target in pad_targets_batch:\n",
    "            pad_targets_lengths.append(len(target))\n",
    "\n",
    "        pad_source_lengths = []\n",
    "        for source in pad_sources_batch:\n",
    "            pad_source_lengths.append(len(source))\n",
    "\n",
    "        yield pad_sources_batch, pad_targets_batch, pad_source_lengths, pad_targets_lengths\n"
   ]
  },
  {
   "cell_type": "markdown",
   "metadata": {},
   "source": [
    "### Train\n",
    "Train the neural network on the preprocessed data. If you have a hard time getting a good loss, check the forms to see if anyone is having the same problem."
   ]
  },
  {
   "cell_type": "code",
   "execution_count": 27,
   "metadata": {
    "scrolled": false
   },
   "outputs": [
    {
     "name": "stdout",
     "output_type": "stream",
     "text": [
      "New hyperparameters:\n",
      "RNN size = 256\n",
      "Embedding size = 256\n",
      "Epoch   0 Batch    0/538 - Train Accuracy: 0.2348, Validation Accuracy: 0.3162, Loss: 5.9912\n",
      "Epoch   0 Batch   10/538 - Train Accuracy: 0.3031, Validation Accuracy: 0.3846, Loss: 3.6818\n",
      "Epoch   0 Batch   20/538 - Train Accuracy: 0.3824, Validation Accuracy: 0.4263, Loss: 2.9813\n",
      "Epoch   0 Batch   30/538 - Train Accuracy: 0.3977, Validation Accuracy: 0.4620, Loss: 2.8200\n",
      "Epoch   0 Batch   40/538 - Train Accuracy: 0.4778, Validation Accuracy: 0.4790, Loss: 2.3569\n",
      "Epoch   0 Batch   50/538 - Train Accuracy: 0.4436, Validation Accuracy: 0.4968, Loss: 2.3174\n",
      "Epoch   0 Batch   60/538 - Train Accuracy: 0.4488, Validation Accuracy: 0.4952, Loss: 2.1523\n",
      "Epoch   0 Batch   70/538 - Train Accuracy: 0.4794, Validation Accuracy: 0.5075, Loss: 1.9071\n",
      "Epoch   0 Batch   80/538 - Train Accuracy: 0.4283, Validation Accuracy: 0.4982, Loss: 1.8619\n",
      "Epoch   0 Batch   90/538 - Train Accuracy: 0.4652, Validation Accuracy: 0.4952, Loss: 1.6766\n",
      "Epoch   0 Batch  100/538 - Train Accuracy: 0.4584, Validation Accuracy: 0.5062, Loss: 1.5758\n",
      "Epoch   0 Batch  110/538 - Train Accuracy: 0.4713, Validation Accuracy: 0.5119, Loss: 1.5544\n",
      "Epoch   0 Batch  120/538 - Train Accuracy: 0.4760, Validation Accuracy: 0.5254, Loss: 1.4519\n",
      "Epoch   0 Batch  130/538 - Train Accuracy: 0.4714, Validation Accuracy: 0.5179, Loss: 1.3252\n",
      "Epoch   0 Batch  140/538 - Train Accuracy: 0.4557, Validation Accuracy: 0.5229, Loss: 1.3651\n",
      "Epoch   0 Batch  150/538 - Train Accuracy: 0.5043, Validation Accuracy: 0.5476, Loss: 1.2452\n",
      "Epoch   0 Batch  160/538 - Train Accuracy: 0.5180, Validation Accuracy: 0.5506, Loss: 1.1148\n",
      "Epoch   0 Batch  170/538 - Train Accuracy: 0.5376, Validation Accuracy: 0.5474, Loss: 1.0887\n",
      "Epoch   0 Batch  180/538 - Train Accuracy: 0.5560, Validation Accuracy: 0.5637, Loss: 1.0496\n",
      "Epoch   0 Batch  190/538 - Train Accuracy: 0.5312, Validation Accuracy: 0.5637, Loss: 1.0476\n",
      "Epoch   0 Batch  200/538 - Train Accuracy: 0.5307, Validation Accuracy: 0.5604, Loss: 0.9780\n",
      "Epoch   0 Batch  210/538 - Train Accuracy: 0.5407, Validation Accuracy: 0.5700, Loss: 0.9328\n",
      "Epoch   0 Batch  220/538 - Train Accuracy: 0.5450, Validation Accuracy: 0.5774, Loss: 0.8839\n",
      "Epoch   0 Batch  230/538 - Train Accuracy: 0.5342, Validation Accuracy: 0.5730, Loss: 0.8968\n",
      "Epoch   0 Batch  240/538 - Train Accuracy: 0.5545, Validation Accuracy: 0.5810, Loss: 0.8946\n",
      "Epoch   0 Batch  250/538 - Train Accuracy: 0.5807, Validation Accuracy: 0.5991, Loss: 0.8334\n",
      "Epoch   0 Batch  260/538 - Train Accuracy: 0.5830, Validation Accuracy: 0.5941, Loss: 0.8237\n",
      "Epoch   0 Batch  270/538 - Train Accuracy: 0.5869, Validation Accuracy: 0.6021, Loss: 0.7968\n",
      "Epoch   0 Batch  280/538 - Train Accuracy: 0.6272, Validation Accuracy: 0.6190, Loss: 0.7554\n",
      "Epoch   0 Batch  290/538 - Train Accuracy: 0.5777, Validation Accuracy: 0.6119, Loss: 0.7722\n",
      "Epoch   0 Batch  300/538 - Train Accuracy: 0.6153, Validation Accuracy: 0.6117, Loss: 0.7364\n",
      "Epoch   0 Batch  310/538 - Train Accuracy: 0.5971, Validation Accuracy: 0.6048, Loss: 0.7320\n",
      "Epoch   0 Batch  320/538 - Train Accuracy: 0.6068, Validation Accuracy: 0.6035, Loss: 0.7507\n",
      "Epoch   0 Batch  330/538 - Train Accuracy: 0.6109, Validation Accuracy: 0.6065, Loss: 0.7037\n",
      "Epoch   0 Batch  340/538 - Train Accuracy: 0.5896, Validation Accuracy: 0.6207, Loss: 0.7380\n",
      "Epoch   0 Batch  350/538 - Train Accuracy: 0.6031, Validation Accuracy: 0.6163, Loss: 0.7040\n",
      "Epoch   0 Batch  360/538 - Train Accuracy: 0.6211, Validation Accuracy: 0.6143, Loss: 0.7023\n",
      "Epoch   0 Batch  370/538 - Train Accuracy: 0.6168, Validation Accuracy: 0.6193, Loss: 0.6967\n",
      "Epoch   0 Batch  380/538 - Train Accuracy: 0.5998, Validation Accuracy: 0.6211, Loss: 0.6614\n",
      "Epoch   0 Batch  390/538 - Train Accuracy: 0.6429, Validation Accuracy: 0.6296, Loss: 0.6341\n",
      "Epoch   0 Batch  400/538 - Train Accuracy: 0.6097, Validation Accuracy: 0.6193, Loss: 0.6365\n",
      "Epoch   0 Batch  410/538 - Train Accuracy: 0.6264, Validation Accuracy: 0.6333, Loss: 0.6487\n",
      "Epoch   0 Batch  420/538 - Train Accuracy: 0.6309, Validation Accuracy: 0.6323, Loss: 0.6232\n",
      "Epoch   0 Batch  430/538 - Train Accuracy: 0.6320, Validation Accuracy: 0.6460, Loss: 0.6372\n",
      "Epoch   0 Batch  440/538 - Train Accuracy: 0.6254, Validation Accuracy: 0.6449, Loss: 0.6552\n",
      "Epoch   0 Batch  450/538 - Train Accuracy: 0.6520, Validation Accuracy: 0.6575, Loss: 0.6241\n",
      "Epoch   0 Batch  460/538 - Train Accuracy: 0.6140, Validation Accuracy: 0.6571, Loss: 0.5847\n",
      "Epoch   0 Batch  470/538 - Train Accuracy: 0.6557, Validation Accuracy: 0.6644, Loss: 0.5804\n",
      "Epoch   0 Batch  480/538 - Train Accuracy: 0.6430, Validation Accuracy: 0.6662, Loss: 0.5738\n",
      "Epoch   0 Batch  490/538 - Train Accuracy: 0.6462, Validation Accuracy: 0.6671, Loss: 0.5752\n",
      "Epoch   0 Batch  500/538 - Train Accuracy: 0.6626, Validation Accuracy: 0.6651, Loss: 0.5262\n",
      "Epoch   0 Batch  510/538 - Train Accuracy: 0.6583, Validation Accuracy: 0.6744, Loss: 0.5548\n",
      "Epoch   0 Batch  520/538 - Train Accuracy: 0.6484, Validation Accuracy: 0.6719, Loss: 0.5651\n",
      "Epoch   0 Batch  530/538 - Train Accuracy: 0.6566, Validation Accuracy: 0.6763, Loss: 0.5724\n",
      "Epoch   1 Batch    0/538 - Train Accuracy: 0.6281, Validation Accuracy: 0.6836, Loss: 0.5470\n",
      "Epoch   1 Batch   10/538 - Train Accuracy: 0.6377, Validation Accuracy: 0.6745, Loss: 0.5703\n",
      "Epoch   1 Batch   20/538 - Train Accuracy: 0.6682, Validation Accuracy: 0.6866, Loss: 0.5376\n",
      "Epoch   1 Batch   30/538 - Train Accuracy: 0.6785, Validation Accuracy: 0.6845, Loss: 0.5439\n",
      "Epoch   1 Batch   40/538 - Train Accuracy: 0.6699, Validation Accuracy: 0.6614, Loss: 0.4652\n",
      "Epoch   1 Batch   50/538 - Train Accuracy: 0.6816, Validation Accuracy: 0.6969, Loss: 0.5140\n",
      "Epoch   1 Batch   60/538 - Train Accuracy: 0.6855, Validation Accuracy: 0.6690, Loss: 0.4989\n",
      "Epoch   1 Batch   70/538 - Train Accuracy: 0.6700, Validation Accuracy: 0.6804, Loss: 0.4857\n",
      "Epoch   1 Batch   80/538 - Train Accuracy: 0.6740, Validation Accuracy: 0.6834, Loss: 0.5014\n",
      "Epoch   1 Batch   90/538 - Train Accuracy: 0.6940, Validation Accuracy: 0.6829, Loss: 0.4841\n",
      "Epoch   1 Batch  100/538 - Train Accuracy: 0.7006, Validation Accuracy: 0.6916, Loss: 0.4602\n",
      "Epoch   1 Batch  110/538 - Train Accuracy: 0.7127, Validation Accuracy: 0.6974, Loss: 0.4668\n",
      "Epoch   1 Batch  120/538 - Train Accuracy: 0.7229, Validation Accuracy: 0.6996, Loss: 0.4368\n",
      "Epoch   1 Batch  130/538 - Train Accuracy: 0.7413, Validation Accuracy: 0.7154, Loss: 0.4191\n",
      "Epoch   1 Batch  140/538 - Train Accuracy: 0.6791, Validation Accuracy: 0.7186, Loss: 0.4593\n",
      "Epoch   1 Batch  150/538 - Train Accuracy: 0.7186, Validation Accuracy: 0.7209, Loss: 0.4315\n",
      "Epoch   1 Batch  160/538 - Train Accuracy: 0.7262, Validation Accuracy: 0.7234, Loss: 0.4129\n",
      "Epoch   1 Batch  170/538 - Train Accuracy: 0.7381, Validation Accuracy: 0.7211, Loss: 0.4122\n",
      "Epoch   1 Batch  180/538 - Train Accuracy: 0.7775, Validation Accuracy: 0.7314, Loss: 0.3921\n",
      "Epoch   1 Batch  190/538 - Train Accuracy: 0.7420, Validation Accuracy: 0.7424, Loss: 0.4139\n",
      "Epoch   1 Batch  200/538 - Train Accuracy: 0.7490, Validation Accuracy: 0.7383, Loss: 0.3699\n",
      "Epoch   1 Batch  210/538 - Train Accuracy: 0.7496, Validation Accuracy: 0.7669, Loss: 0.3635\n",
      "Epoch   1 Batch  220/538 - Train Accuracy: 0.7567, Validation Accuracy: 0.7660, Loss: 0.3510\n",
      "Epoch   1 Batch  230/538 - Train Accuracy: 0.7881, Validation Accuracy: 0.7472, Loss: 0.3634\n",
      "Epoch   1 Batch  240/538 - Train Accuracy: 0.7629, Validation Accuracy: 0.7676, Loss: 0.3602\n",
      "Epoch   1 Batch  250/538 - Train Accuracy: 0.7857, Validation Accuracy: 0.7811, Loss: 0.3374\n",
      "Epoch   1 Batch  260/538 - Train Accuracy: 0.7653, Validation Accuracy: 0.7750, Loss: 0.3398\n",
      "Epoch   1 Batch  270/538 - Train Accuracy: 0.7725, Validation Accuracy: 0.7679, Loss: 0.3398\n",
      "Epoch   1 Batch  280/538 - Train Accuracy: 0.7965, Validation Accuracy: 0.7773, Loss: 0.3158\n",
      "Epoch   1 Batch  290/538 - Train Accuracy: 0.8104, Validation Accuracy: 0.7646, Loss: 0.3159\n",
      "Epoch   1 Batch  300/538 - Train Accuracy: 0.7954, Validation Accuracy: 0.7914, Loss: 0.3050\n",
      "Epoch   1 Batch  310/538 - Train Accuracy: 0.8338, Validation Accuracy: 0.7939, Loss: 0.3215\n",
      "Epoch   1 Batch  320/538 - Train Accuracy: 0.8038, Validation Accuracy: 0.8136, Loss: 0.2975\n",
      "Epoch   1 Batch  330/538 - Train Accuracy: 0.8304, Validation Accuracy: 0.8004, Loss: 0.2758\n"
     ]
    },
    {
     "name": "stdout",
     "output_type": "stream",
     "text": [
      "Epoch   1 Batch  340/538 - Train Accuracy: 0.7809, Validation Accuracy: 0.8008, Loss: 0.2955\n",
      "Epoch   1 Batch  350/538 - Train Accuracy: 0.8034, Validation Accuracy: 0.8075, Loss: 0.3002\n",
      "Epoch   1 Batch  360/538 - Train Accuracy: 0.8064, Validation Accuracy: 0.8159, Loss: 0.2798\n",
      "Epoch   1 Batch  370/538 - Train Accuracy: 0.8160, Validation Accuracy: 0.8201, Loss: 0.2875\n",
      "Epoch   1 Batch  380/538 - Train Accuracy: 0.8354, Validation Accuracy: 0.8219, Loss: 0.2625\n",
      "Epoch   1 Batch  390/538 - Train Accuracy: 0.8365, Validation Accuracy: 0.8239, Loss: 0.2473\n",
      "Epoch   1 Batch  400/538 - Train Accuracy: 0.8302, Validation Accuracy: 0.8352, Loss: 0.2611\n",
      "Epoch   1 Batch  410/538 - Train Accuracy: 0.8553, Validation Accuracy: 0.8397, Loss: 0.2591\n",
      "Epoch   1 Batch  420/538 - Train Accuracy: 0.8594, Validation Accuracy: 0.8358, Loss: 0.2392\n",
      "Epoch   1 Batch  430/538 - Train Accuracy: 0.8363, Validation Accuracy: 0.8523, Loss: 0.2458\n",
      "Epoch   1 Batch  440/538 - Train Accuracy: 0.8365, Validation Accuracy: 0.8441, Loss: 0.2721\n",
      "Epoch   1 Batch  450/538 - Train Accuracy: 0.8488, Validation Accuracy: 0.8443, Loss: 0.2447\n",
      "Epoch   1 Batch  460/538 - Train Accuracy: 0.8281, Validation Accuracy: 0.8288, Loss: 0.2314\n",
      "Epoch   1 Batch  470/538 - Train Accuracy: 0.8421, Validation Accuracy: 0.8464, Loss: 0.2206\n",
      "Epoch   1 Batch  480/538 - Train Accuracy: 0.8681, Validation Accuracy: 0.8413, Loss: 0.2160\n",
      "Epoch   1 Batch  490/538 - Train Accuracy: 0.8627, Validation Accuracy: 0.8679, Loss: 0.2144\n",
      "Epoch   1 Batch  500/538 - Train Accuracy: 0.8968, Validation Accuracy: 0.8674, Loss: 0.1933\n",
      "Epoch   1 Batch  510/538 - Train Accuracy: 0.8657, Validation Accuracy: 0.8723, Loss: 0.2190\n",
      "Epoch   1 Batch  520/538 - Train Accuracy: 0.8523, Validation Accuracy: 0.8462, Loss: 0.2180\n",
      "Epoch   1 Batch  530/538 - Train Accuracy: 0.8584, Validation Accuracy: 0.8668, Loss: 0.2104\n",
      "Epoch   2 Batch    0/538 - Train Accuracy: 0.8764, Validation Accuracy: 0.8588, Loss: 0.1984\n",
      "Epoch   2 Batch   10/538 - Train Accuracy: 0.8539, Validation Accuracy: 0.8643, Loss: 0.2056\n",
      "Epoch   2 Batch   20/538 - Train Accuracy: 0.8821, Validation Accuracy: 0.8512, Loss: 0.2067\n",
      "Epoch   2 Batch   30/538 - Train Accuracy: 0.8549, Validation Accuracy: 0.8636, Loss: 0.1992\n",
      "Epoch   2 Batch   40/538 - Train Accuracy: 0.9009, Validation Accuracy: 0.8699, Loss: 0.1581\n",
      "Epoch   2 Batch   50/538 - Train Accuracy: 0.8740, Validation Accuracy: 0.8897, Loss: 0.1756\n",
      "Epoch   2 Batch   60/538 - Train Accuracy: 0.9094, Validation Accuracy: 0.8681, Loss: 0.1740\n",
      "Epoch   2 Batch   70/538 - Train Accuracy: 0.8616, Validation Accuracy: 0.8643, Loss: 0.1659\n",
      "Epoch   2 Batch   80/538 - Train Accuracy: 0.8936, Validation Accuracy: 0.8736, Loss: 0.1801\n",
      "Epoch   2 Batch   90/538 - Train Accuracy: 0.8906, Validation Accuracy: 0.8714, Loss: 0.1666\n",
      "Epoch   2 Batch  100/538 - Train Accuracy: 0.9018, Validation Accuracy: 0.8844, Loss: 0.1550\n",
      "Epoch   2 Batch  110/538 - Train Accuracy: 0.8658, Validation Accuracy: 0.8798, Loss: 0.1552\n",
      "Epoch   2 Batch  120/538 - Train Accuracy: 0.9176, Validation Accuracy: 0.8757, Loss: 0.1459\n",
      "Epoch   2 Batch  130/538 - Train Accuracy: 0.9118, Validation Accuracy: 0.8885, Loss: 0.1450\n",
      "Epoch   2 Batch  140/538 - Train Accuracy: 0.8623, Validation Accuracy: 0.8865, Loss: 0.1641\n",
      "Epoch   2 Batch  150/538 - Train Accuracy: 0.9055, Validation Accuracy: 0.8826, Loss: 0.1402\n",
      "Epoch   2 Batch  160/538 - Train Accuracy: 0.8893, Validation Accuracy: 0.8855, Loss: 0.1297\n",
      "Epoch   2 Batch  170/538 - Train Accuracy: 0.8858, Validation Accuracy: 0.8812, Loss: 0.1374\n",
      "Epoch   2 Batch  180/538 - Train Accuracy: 0.9036, Validation Accuracy: 0.8972, Loss: 0.1279\n",
      "Epoch   2 Batch  190/538 - Train Accuracy: 0.9020, Validation Accuracy: 0.8896, Loss: 0.1574\n",
      "Epoch   2 Batch  200/538 - Train Accuracy: 0.9178, Validation Accuracy: 0.8865, Loss: 0.1174\n",
      "Epoch   2 Batch  210/538 - Train Accuracy: 0.8880, Validation Accuracy: 0.9016, Loss: 0.1293\n",
      "Epoch   2 Batch  220/538 - Train Accuracy: 0.8891, Validation Accuracy: 0.8975, Loss: 0.1187\n",
      "Epoch   2 Batch  230/538 - Train Accuracy: 0.9080, Validation Accuracy: 0.8738, Loss: 0.1241\n",
      "Epoch   2 Batch  240/538 - Train Accuracy: 0.8963, Validation Accuracy: 0.9016, Loss: 0.1328\n",
      "Epoch   2 Batch  250/538 - Train Accuracy: 0.9225, Validation Accuracy: 0.8855, Loss: 0.1120\n",
      "Epoch   2 Batch  260/538 - Train Accuracy: 0.8744, Validation Accuracy: 0.9020, Loss: 0.1227\n",
      "Epoch   2 Batch  270/538 - Train Accuracy: 0.9176, Validation Accuracy: 0.8963, Loss: 0.1145\n",
      "Epoch   2 Batch  280/538 - Train Accuracy: 0.9124, Validation Accuracy: 0.8928, Loss: 0.1068\n",
      "Epoch   2 Batch  290/538 - Train Accuracy: 0.9324, Validation Accuracy: 0.9013, Loss: 0.0964\n",
      "Epoch   2 Batch  300/538 - Train Accuracy: 0.8953, Validation Accuracy: 0.8961, Loss: 0.1059\n",
      "Epoch   2 Batch  310/538 - Train Accuracy: 0.9281, Validation Accuracy: 0.9057, Loss: 0.1067\n",
      "Epoch   2 Batch  320/538 - Train Accuracy: 0.9059, Validation Accuracy: 0.9082, Loss: 0.1011\n",
      "Epoch   2 Batch  330/538 - Train Accuracy: 0.9165, Validation Accuracy: 0.8991, Loss: 0.0946\n",
      "Epoch   2 Batch  340/538 - Train Accuracy: 0.9260, Validation Accuracy: 0.9162, Loss: 0.1023\n",
      "Epoch   2 Batch  350/538 - Train Accuracy: 0.9150, Validation Accuracy: 0.9047, Loss: 0.1109\n",
      "Epoch   2 Batch  360/538 - Train Accuracy: 0.9139, Validation Accuracy: 0.9029, Loss: 0.0995\n",
      "Epoch   2 Batch  370/538 - Train Accuracy: 0.9141, Validation Accuracy: 0.9039, Loss: 0.0974\n",
      "Epoch   2 Batch  380/538 - Train Accuracy: 0.9182, Validation Accuracy: 0.8999, Loss: 0.0862\n",
      "Epoch   2 Batch  390/538 - Train Accuracy: 0.9271, Validation Accuracy: 0.9094, Loss: 0.0825\n",
      "Epoch   2 Batch  400/538 - Train Accuracy: 0.9217, Validation Accuracy: 0.9139, Loss: 0.0966\n",
      "Epoch   2 Batch  410/538 - Train Accuracy: 0.9146, Validation Accuracy: 0.9059, Loss: 0.0910\n",
      "Epoch   2 Batch  420/538 - Train Accuracy: 0.9363, Validation Accuracy: 0.9190, Loss: 0.0846\n",
      "Epoch   2 Batch  430/538 - Train Accuracy: 0.9111, Validation Accuracy: 0.9247, Loss: 0.0891\n",
      "Epoch   2 Batch  440/538 - Train Accuracy: 0.8996, Validation Accuracy: 0.9091, Loss: 0.1027\n",
      "Epoch   2 Batch  450/538 - Train Accuracy: 0.9077, Validation Accuracy: 0.9181, Loss: 0.1064\n",
      "Epoch   2 Batch  460/538 - Train Accuracy: 0.8996, Validation Accuracy: 0.9116, Loss: 0.0930\n",
      "Epoch   2 Batch  470/538 - Train Accuracy: 0.9379, Validation Accuracy: 0.9187, Loss: 0.0826\n",
      "Epoch   2 Batch  480/538 - Train Accuracy: 0.9312, Validation Accuracy: 0.9048, Loss: 0.0824\n",
      "Epoch   2 Batch  490/538 - Train Accuracy: 0.9297, Validation Accuracy: 0.9210, Loss: 0.0806\n",
      "Epoch   2 Batch  500/538 - Train Accuracy: 0.9421, Validation Accuracy: 0.9121, Loss: 0.0693\n",
      "Epoch   2 Batch  510/538 - Train Accuracy: 0.9202, Validation Accuracy: 0.9096, Loss: 0.0812\n",
      "Epoch   2 Batch  520/538 - Train Accuracy: 0.9234, Validation Accuracy: 0.9132, Loss: 0.0849\n",
      "Epoch   2 Batch  530/538 - Train Accuracy: 0.9045, Validation Accuracy: 0.9084, Loss: 0.0910\n"
     ]
    },
    {
     "data": {
      "image/png": "[encoded data removed]",
      "text/plain": [
       "<matplotlib.figure.Figure at 0x7f03d1c1b048>"
      ]
     },
     "metadata": {},
     "output_type": "display_data"
    },
    {
     "data": {
      "image/png": "[encoded data removed]",
      "text/plain": [
       "<matplotlib.figure.Figure at 0x7f03d4ccb710>"
      ]
     },
     "metadata": {},
     "output_type": "display_data"
    },
    {
     "name": "stdout",
     "output_type": "stream",
     "text": [
      "Mean validation accuracy in last ten samples is: 0.9127\n",
      "\n",
      "Hyperparameters used:\n",
      "RNN size: 256\n",
      "Embedding size: 256\n",
      "\n",
      "Model Trained and Saved\n",
      "--------------------------------------------\n",
      "\n"
     ]
    }
   ],
   "source": [
    "\"\"\"\n",
    "DON'T MODIFY ANYTHING IN THIS CELL\n",
    "\"\"\"\n",
    "def get_accuracy(target, logits):\n",
    "    \"\"\"\n",
    "    Calculate accuracy\n",
    "    \"\"\"\n",
    "    max_seq = max(target.shape[1], logits.shape[1])\n",
    "    if max_seq - target.shape[1]:\n",
    "        target = np.pad(\n",
    "            target,\n",
    "            [(0,0),(0,max_seq - target.shape[1])],\n",
    "            'constant')\n",
    "    if max_seq - logits.shape[1]:\n",
    "        logits = np.pad(\n",
    "            logits,\n",
    "            [(0,0),(0,max_seq - logits.shape[1])],\n",
    "            'constant')\n",
    "\n",
    "    return np.mean(np.equal(target, logits))\n",
    "\n",
    "# Split data to training and validation sets\n",
    "train_source = source_int_text[batch_size:]\n",
    "train_target = target_int_text[batch_size:]\n",
    "valid_source = source_int_text[:batch_size]\n",
    "valid_target = target_int_text[:batch_size]\n",
    "(valid_sources_batch, valid_targets_batch, valid_sources_lengths, valid_targets_lengths ) = next(get_batches(valid_source,\n",
    "                                                                                                             valid_target,\n",
    "                                                                                                             batch_size,\n",
    "                                                                                                             source_vocab_to_int['<PAD>'],\n",
    "                                                                                                             target_vocab_to_int['<PAD>']))\n",
    "# Number of Epochs\n",
    "epochs = 3\n",
    "# RNN Size\n",
    "#rnn_size_set = [64, 128, 256, 512]\n",
    "rnn_size_set = [256]\n",
    "# Number of Layers\n",
    "num_layers = 2\n",
    "# Embedding Size\n",
    "#embedding_size_set = [64, 128, 256]\n",
    "embedding_size_set = [256]\n",
    "# Learning Rate\n",
    "learning_rate = 0.001\n",
    "# Dropout Keep Probability\n",
    "keep_probability = 0.5\n",
    "display_step = 10\n",
    "\n",
    "# Plot settings\n",
    "plot_num = 0\n",
    "plot_colors = ['#f44336', '#E91E63', '#9C27B0', '#673AB7', '#3F51B5', '#2196F3', \n",
    "               '#03A9F4', '#00BCD4', '#009688', '#4CAF50', '#8BC34A', '#FFC107', \n",
    "               '#FF9800', '#FF5722', '#795548', '#9E9E9E', '#607D8B']\n",
    "\n",
    "\n",
    "# Grid search hyperparameters\n",
    "for rnn_size in rnn_size_set:\n",
    "    for encoding_embedding_size in embedding_size_set:\n",
    "        \n",
    "        # Print the new hyperparameters\n",
    "        print('New hyperparameters:')\n",
    "        print('RNN size = ' + str(rnn_size))\n",
    "        print('Embedding size = ' + str(encoding_embedding_size))\n",
    "        \n",
    "        # Initialize the plot data vectors\n",
    "        batch_plot = []\n",
    "        training_acc_plot = []\n",
    "        validation_acc_plot = []\n",
    "        plot_num = 0\n",
    "        \n",
    "        # Build the graph ----------------------------------------------------------------------------\n",
    "        save_path = 'checkpoints/dev'\n",
    "        (source_int_text, target_int_text), (source_vocab_to_int, target_vocab_to_int), _ = helper.load_preprocess()\n",
    "        max_target_sentence_length = max([len(sentence) for sentence in source_int_text])\n",
    "\n",
    "        train_graph = tf.Graph()\n",
    "        with train_graph.as_default():\n",
    "            input_data, targets, lr, keep_prob, target_sequence_length, max_target_sequence_length, source_sequence_length = model_inputs()\n",
    "\n",
    "            #sequence_length = tf.placeholder_with_default(max_target_sentence_length, None, name='sequence_length')\n",
    "            input_shape = tf.shape(input_data)\n",
    "\n",
    "            train_logits, inference_logits = seq2seq_model(tf.reverse(input_data, [-1]),\n",
    "                                                           targets,\n",
    "                                                           keep_prob,\n",
    "                                                           batch_size,\n",
    "                                                           source_sequence_length,\n",
    "                                                           target_sequence_length,\n",
    "                                                           max_target_sequence_length,\n",
    "                                                           len(source_vocab_to_int),\n",
    "                                                           len(target_vocab_to_int),\n",
    "                                                           encoding_embedding_size,\n",
    "                                                           encoding_embedding_size,\n",
    "                                                           rnn_size,\n",
    "                                                           num_layers,\n",
    "                                                           target_vocab_to_int)\n",
    "\n",
    "\n",
    "            training_logits = tf.identity(train_logits.rnn_output, name='logits')\n",
    "            inference_logits = tf.identity(inference_logits.sample_id, name='predictions')\n",
    "\n",
    "            masks = tf.sequence_mask(target_sequence_length, max_target_sequence_length, dtype=tf.float32, name='masks')\n",
    "\n",
    "            with tf.name_scope(\"optimization\"):\n",
    "                # Loss function\n",
    "                cost = tf.contrib.seq2seq.sequence_loss(\n",
    "                    training_logits,\n",
    "                    targets,\n",
    "                    masks)\n",
    "\n",
    "                # Optimizer\n",
    "                optimizer = tf.train.AdamOptimizer(lr)\n",
    "\n",
    "                # Gradient Clipping\n",
    "                gradients = optimizer.compute_gradients(cost)\n",
    "                capped_gradients = [(tf.clip_by_value(grad, -1., 1.), var) for grad, var in gradients if grad is not None]\n",
    "                train_op = optimizer.apply_gradients(capped_gradients)\n",
    "        \n",
    "        \n",
    "        \n",
    "        \n",
    "        # Do the training ----------------------------------------------------------------------------\n",
    "        with tf.Session(graph=train_graph) as sess:\n",
    "            sess.run(tf.global_variables_initializer())\n",
    "\n",
    "            for epoch_i in range(epochs):        \n",
    "                for batch_i, (source_batch, target_batch, sources_lengths, targets_lengths) in enumerate(\n",
    "                        get_batches(train_source, train_target, batch_size,\n",
    "                                    source_vocab_to_int['<PAD>'],\n",
    "                                    target_vocab_to_int['<PAD>'])):\n",
    "\n",
    "                    _, loss = sess.run(\n",
    "                        [train_op, cost],\n",
    "                        {input_data: source_batch,\n",
    "                         targets: target_batch,\n",
    "                         lr: learning_rate,\n",
    "                         target_sequence_length: targets_lengths,\n",
    "                         source_sequence_length: sources_lengths,\n",
    "                         keep_prob: keep_probability})\n",
    "\n",
    "\n",
    "                    if batch_i % display_step == 0 or batch_i == (len(source_int_text) // batch_size):\n",
    "\n",
    "\n",
    "                        batch_train_logits = sess.run(\n",
    "                            inference_logits,\n",
    "                            {input_data: source_batch,\n",
    "                             source_sequence_length: sources_lengths,\n",
    "                             target_sequence_length: targets_lengths,\n",
    "                             keep_prob: 1.0})\n",
    "\n",
    "\n",
    "                        batch_valid_logits = sess.run(\n",
    "                            inference_logits,\n",
    "                            {input_data: valid_sources_batch,\n",
    "                             source_sequence_length: valid_sources_lengths,\n",
    "                             target_sequence_length: valid_targets_lengths,\n",
    "                             keep_prob: 1.0})\n",
    "\n",
    "                        train_acc = get_accuracy(target_batch, batch_train_logits)\n",
    "\n",
    "                        valid_acc = get_accuracy(valid_targets_batch, batch_valid_logits)\n",
    "\n",
    "                        print('Epoch {:>3} Batch {:>4}/{} - Train Accuracy: {:>6.4f}, Validation Accuracy: {:>6.4f}, Loss: {:>6.4f}'\n",
    "                              .format(epoch_i, batch_i, len(source_int_text) // batch_size, train_acc, valid_acc, loss))\n",
    "\n",
    "                        # Save the accuracy data for plotting\n",
    "                        batch_plot.append((epoch_i * len(source_int_text) // batch_size) + batch_i)\n",
    "                        training_acc_plot.append(train_acc)\n",
    "                        validation_acc_plot.append(valid_acc)\n",
    "\n",
    "            # Create the plots\n",
    "            plt.figure(plot_num * 2)\n",
    "            plt.plot(batch_plot, training_acc_plot, color=random.choice(plot_colors))\n",
    "            plt.ylim(0, 1.0)\n",
    "            plt.title('Training Accuracy')\n",
    "            plt.xlabel('Training Batch')\n",
    "            plt.ylabel('Accuracy / 100')\n",
    "            plt.rcParams[\"figure.figsize\"] = [18, 10]\n",
    "            plt.figure(plot_num * 2 + 1)\n",
    "            plt.plot(batch_plot, validation_acc_plot, color=random.choice(plot_colors))\n",
    "            plt.ylim(0, 1.0)\n",
    "            plt.title('Validation Accuracy')\n",
    "            plt.xlabel('Training Batch')\n",
    "            plt.ylabel('Accuracy / 100')\n",
    "            plt.rcParams[\"figure.figsize\"] = [18, 10]\n",
    "            plt.show()\n",
    "            \n",
    "            # Reprint the hyperparameters and display the accuracy info\n",
    "            print('Mean validation accuracy in last ten samples is: {:>6.4f}'.format(sum(validation_acc_plot[-10:]) / 10))\n",
    "            print('')\n",
    "            print('Hyperparameters used:')\n",
    "            print('RNN size: ' + str(rnn_size))\n",
    "            print('Embedding size: ' + str(encoding_embedding_size))\n",
    "            print('')\n",
    "            \n",
    "            # Save Model\n",
    "            saver = tf.train.Saver()\n",
    "            saver.save(sess, save_path)\n",
    "            print('Model Trained and Saved')\n",
    "            print('--------------------------------------------')\n",
    "            print('')"
   ]
  },
  {
   "cell_type": "markdown",
   "metadata": {},
   "source": [
    "### Save Parameters\n",
    "Save the `batch_size` and `save_path` parameters for inference."
   ]
  },
  {
   "cell_type": "code",
   "execution_count": 28,
   "metadata": {
    "collapsed": true
   },
   "outputs": [],
   "source": [
    "\"\"\"\n",
    "DON'T MODIFY ANYTHING IN THIS CELL\n",
    "\"\"\"\n",
    "# Save parameters for checkpoint\n",
    "helper.save_params(save_path)"
   ]
  },
  {
   "cell_type": "markdown",
   "metadata": {},
   "source": [
    "# Checkpoint"
   ]
  },
  {
   "cell_type": "code",
   "execution_count": 29,
   "metadata": {
    "collapsed": true
   },
   "outputs": [],
   "source": [
    "\"\"\"\n",
    "DON'T MODIFY ANYTHING IN THIS CELL\n",
    "\"\"\"\n",
    "import tensorflow as tf\n",
    "import numpy as np\n",
    "import helper\n",
    "import problem_unittests as tests\n",
    "\n",
    "_, (source_vocab_to_int, target_vocab_to_int), (source_int_to_vocab, target_int_to_vocab) = helper.load_preprocess()\n",
    "load_path = helper.load_params()"
   ]
  },
  {
   "cell_type": "markdown",
   "metadata": {},
   "source": [
    "## Sentence to Sequence\n",
    "To feed a sentence into the model for translation, you first need to preprocess it.  Implement the function `sentence_to_seq()` to preprocess new sentences.\n",
    "\n",
    "- Convert the sentence to lowercase\n",
    "- Convert words into ids using `vocab_to_int`\n",
    " - Convert words not in the vocabulary, to the `<UNK>` word id."
   ]
  },
  {
   "cell_type": "code",
   "execution_count": 30,
   "metadata": {},
   "outputs": [
    {
     "name": "stdout",
     "output_type": "stream",
     "text": [
      "Tests Passed\n"
     ]
    }
   ],
   "source": [
    "def sentence_to_seq(sentence, vocab_to_int):\n",
    "    \"\"\"\n",
    "    Convert a sentence to a sequence of ids\n",
    "    :param sentence: String\n",
    "    :param vocab_to_int: Dictionary to go from the words to an id\n",
    "    :return: List of word ids\n",
    "    \"\"\"\n",
    "    # Initialize the seq\n",
    "    seq = []\n",
    "    \n",
    "    # Convert to lowercase\n",
    "    sentence = sentence.lower()\n",
    "    \n",
    "    # Check whether each word is in the vocab, and add it (or <UNK>) to the processed sequence\n",
    "    for word in sentence.split():\n",
    "        if word in vocab_to_int.keys():\n",
    "            seq.append(vocab_to_int[word])\n",
    "        else:\n",
    "            seq.append(vocab_to_int['<UNK>'])\n",
    "            \n",
    "    # Return the sequence\n",
    "    return seq\n",
    "\n",
    "\n",
    "\"\"\"\n",
    "DON'T MODIFY ANYTHING IN THIS CELL THAT IS BELOW THIS LINE\n",
    "\"\"\"\n",
    "tests.test_sentence_to_seq(sentence_to_seq)"
   ]
  },
  {
   "cell_type": "markdown",
   "metadata": {},
   "source": [
    "## Translate\n",
    "This will translate `translate_sentence` from English to French."
   ]
  },
  {
   "cell_type": "code",
   "execution_count": 31,
   "metadata": {},
   "outputs": [
    {
     "name": "stdout",
     "output_type": "stream",
     "text": [
      "INFO:tensorflow:Restoring parameters from checkpoints/dev\n",
      "Input\n",
      "  Word Ids:      [49, 191, 145, 200, 66, 11, 127]\n",
      "  English Words: ['he', 'saw', 'a', 'old', 'yellow', 'truck', '.']\n",
      "\n",
      "Prediction\n",
      "  Word Ids:      [192, 144, 71, 200, 85, 268, 324, 1]\n",
      "  French Words: il a vu un camion jaune . <EOS>\n"
     ]
    }
   ],
   "source": [
    "translate_sentence = 'he saw a old yellow truck .'\n",
    "\n",
    "\n",
    "\"\"\"\n",
    "DON'T MODIFY ANYTHING IN THIS CELL\n",
    "\"\"\"\n",
    "translate_sentence = sentence_to_seq(translate_sentence, source_vocab_to_int)\n",
    "\n",
    "loaded_graph = tf.Graph()\n",
    "with tf.Session(graph=loaded_graph) as sess:\n",
    "    # Load saved model\n",
    "    loader = tf.train.import_meta_graph(load_path + '.meta')\n",
    "    loader.restore(sess, load_path)\n",
    "\n",
    "    input_data = loaded_graph.get_tensor_by_name('input:0')\n",
    "    logits = loaded_graph.get_tensor_by_name('predictions:0')\n",
    "    target_sequence_length = loaded_graph.get_tensor_by_name('target_sequence_length:0')\n",
    "    source_sequence_length = loaded_graph.get_tensor_by_name('source_sequence_length:0')\n",
    "    keep_prob = loaded_graph.get_tensor_by_name('keep_prob:0')\n",
    "\n",
    "    translate_logits = sess.run(logits, {input_data: [translate_sentence]*batch_size,\n",
    "                                         target_sequence_length: [len(translate_sentence)*2]*batch_size,\n",
    "                                         source_sequence_length: [len(translate_sentence)]*batch_size,\n",
    "                                         keep_prob: 1.0})[0]\n",
    "\n",
    "print('Input')\n",
    "print('  Word Ids:      {}'.format([i for i in translate_sentence]))\n",
    "print('  English Words: {}'.format([source_int_to_vocab[i] for i in translate_sentence]))\n",
    "\n",
    "print('\\nPrediction')\n",
    "print('  Word Ids:      {}'.format([i for i in translate_logits]))\n",
    "print('  French Words: {}'.format(\" \".join([target_int_to_vocab[i] for i in translate_logits])))\n"
   ]
  },
  {
   "cell_type": "markdown",
   "metadata": {},
   "source": [
    "## Imperfect Translation\n",
    "You might notice that some sentences translate better than others.  Since the dataset you're using only has a vocabulary of 227 English words of the thousands that you use, you're only going to see good results using these words.  For this project, you don't need a perfect translation. However, if you want to create a better translation model, you'll need better data.\n",
    "\n",
    "You can train on the [WMT10 French-English corpus](http://www.statmt.org/wmt10/training-giga-fren.tar).  This dataset has more vocabulary and richer in topics discussed.  However, this will take you days to train, so make sure you've a GPU and the neural network is performing well on dataset we provided.  Just make sure you play with the WMT10 corpus after you've submitted this project.\n",
    "## Submitting This Project\n",
    "When submitting this project, make sure to run all the cells before saving the notebook. Save the notebook file as \"dlnd_language_translation.ipynb\" and save it as a HTML file under \"File\" -> \"Download as\". Include the \"helper.py\" and \"problem_unittests.py\" files in your submission."
   ]
  }
 ],
 "metadata": {
  "anaconda-cloud": {},
  "kernelspec": {
   "display_name": "Python 3",
   "language": "python",
   "name": "python3"
  },
  "language_info": {
   "codemirror_mode": {
    "name": "ipython",
    "version": 3
   },
   "file_extension": ".py",
   "mimetype": "text/x-python",
   "name": "python",
   "nbconvert_exporter": "python",
   "pygments_lexer": "ipython3",
   "version": "3.5.3"
  }
 },
 "nbformat": 4,
 "nbformat_minor": 1
}
